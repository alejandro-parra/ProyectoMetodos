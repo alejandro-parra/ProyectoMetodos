{
 "cells": [
  {
   "cell_type": "code",
   "execution_count": 3,
   "metadata": {
    "collapsed": false
   },
   "outputs": [
    {
     "name": "stdout",
     "output_type": "stream",
     "text": [
      "El valor de la raiz es 1.00000\n",
      "Numero de iteraciones: 6\n"
     ]
    }
   ],
   "source": [
    "def f(x):\n",
    "    return (2*x**2 - 5*x + 3)\n",
    "\n",
    "def fprima(x):\n",
    "    return 4*x - 5\n",
    "\n",
    "itera = 0\n",
    "x0 = 0\n",
    "\n",
    "for i in range(100):\n",
    "    itera += 1\n",
    "    xr = x0 - f(x0)/fprima(x0)\n",
    "    fxr = f(xr)\n",
    "    if abs(fxr) < 0.000001:\n",
    "        break\n",
    "    x0 = xr\n",
    "    \n",
    "print(\"El valor de la raiz es %0.5f\"%x0)\n",
    "print(\"Numero de iteraciones: %i\"%itera)\n",
    "    "
   ]
  },
  {
   "cell_type": "code",
   "execution_count": 0,
   "metadata": {
    "collapsed": false
   },
   "outputs": [
   ],
   "source": [
   ]
  }
 ],
 "metadata": {
  "kernelspec": {
   "display_name": "Python 3 (Anaconda 5)",
   "language": "python",
   "name": "anaconda5"
  },
  "language_info": {
   "codemirror_mode": {
    "name": "ipython",
    "version": 3
   },
   "file_extension": ".py",
   "mimetype": "text/x-python",
   "name": "python",
   "nbconvert_exporter": "python",
   "pygments_lexer": "ipython3",
   "version": "3.6.5"
  }
 },
 "nbformat": 4,
 "nbformat_minor": 0
}